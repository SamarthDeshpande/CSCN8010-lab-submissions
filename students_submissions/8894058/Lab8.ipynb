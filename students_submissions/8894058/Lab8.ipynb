{
 "cells": [
  {
   "cell_type": "markdown",
   "id": "ecc20607",
   "metadata": {},
   "source": [
    "# Name : Samarth Deshpande\n",
    "# Student_id :  8894058"
   ]
  },
  {
   "cell_type": "markdown",
   "id": "43c9dd4a",
   "metadata": {},
   "source": [
    "# Importing torch"
   ]
  },
  {
   "cell_type": "code",
   "execution_count": 9,
   "id": "71e039fa",
   "metadata": {},
   "outputs": [],
   "source": [
    "import torch"
   ]
  },
  {
   "cell_type": "markdown",
   "id": "6323cb0a",
   "metadata": {},
   "source": [
    "# Calculate the dot product between two vectors each of length 3 using pytorch"
   ]
  },
  {
   "cell_type": "code",
   "execution_count": 4,
   "id": "b176fd84",
   "metadata": {},
   "outputs": [
    {
     "name": "stdout",
     "output_type": "stream",
     "text": [
      "tensor(1718)\n"
     ]
    }
   ],
   "source": [
    "a = torch.tensor([21, 22, 23])\n",
    "b = torch.tensor([25, 26, 27])\n",
    "dot_product = torch.dot(a, b)\n",
    "print(dot_product)"
   ]
  },
  {
   "cell_type": "markdown",
   "id": "adbc2334",
   "metadata": {},
   "source": [
    "The code uses torch.tensor to create two sets of numbers, a and b, representing vectors.\n",
    "torch.dot computes a special multiplication between these vectors called the dot product.\n",
    "The result, shown as tensor(1718), is just  number representing the outcome of this multiplication."
   ]
  },
  {
   "cell_type": "markdown",
   "id": "8ceb2107",
   "metadata": {},
   "source": [
    "# Calculate the matrix multiplication of two 2-dimensional matrices, each with a size of (2,2) using pytorch"
   ]
  },
  {
   "cell_type": "code",
   "execution_count": 5,
   "id": "2c3698b4",
   "metadata": {},
   "outputs": [
    {
     "name": "stdout",
     "output_type": "stream",
     "text": [
      "tensor([[ 93, 146],\n",
      "        [127, 198]])\n"
     ]
    }
   ],
   "source": [
    "matrix_a = torch.tensor([[5, 6], [7, 8]])\n",
    "matrix_b = torch.tensor([[9, 10], [8, 16]])\n",
    "result_matrix = torch.matmul(matrix_a, matrix_b)\n",
    "print(result_matrix)"
   ]
  },
  {
   "cell_type": "markdown",
   "id": "9cf4dd12",
   "metadata": {},
   "source": [
    "torch.matmul is used to perform matrix multiplication bterween matrix_a and matrix_b\n",
    "The final output is a Pytorch tensor representing matrix product"
   ]
  },
  {
   "cell_type": "markdown",
   "id": "cd99d3d0",
   "metadata": {},
   "source": [
    "# Calculate the dot product between the same vectors as above (re-define them in Tensorflow) "
   ]
  },
  {
   "cell_type": "code",
   "execution_count": 10,
   "id": "edb3c45d",
   "metadata": {},
   "outputs": [],
   "source": [
    "import tensorflow as tf"
   ]
  },
  {
   "cell_type": "code",
   "execution_count": 11,
   "id": "6db31fef",
   "metadata": {},
   "outputs": [],
   "source": [
    "# Redefining vectors for dot product\n",
    "vector1 = tf.constant([21, 22, 23], dtype=tf.int32)\n",
    "vector2 = tf.constant([25, 26, 27], dtype=tf.int32)"
   ]
  },
  {
   "cell_type": "code",
   "execution_count": 12,
   "id": "cd14c4b7",
   "metadata": {},
   "outputs": [
    {
     "name": "stdout",
     "output_type": "stream",
     "text": [
      "Dot Product: 1718\n"
     ]
    }
   ],
   "source": [
    "# Calculating dot product\n",
    "dot_product = tf.tensordot(vector1, vector2, axes=1)\n",
    "print(\"Dot Product:\", dot_product.numpy())"
   ]
  },
  {
   "cell_type": "markdown",
   "id": "a0cc96cd",
   "metadata": {},
   "source": [
    "To compute the dot product between two vectors we use the tf.tensordot "
   ]
  },
  {
   "cell_type": "markdown",
   "id": "69b97444",
   "metadata": {},
   "source": [
    "# Calculate the matrix multiplication of the same matrics as above (re-define them in Tensorflow) "
   ]
  },
  {
   "cell_type": "code",
   "execution_count": 16,
   "id": "b0906e9b",
   "metadata": {},
   "outputs": [
    {
     "name": "stdout",
     "output_type": "stream",
     "text": [
      "[[ 93 146]\n",
      " [127 198]]\n"
     ]
    }
   ],
   "source": [
    "# Redefining matrices for matrix multiplication\n",
    "matrix_1 = tf.constant([[5, 6], [7, 8]], dtype=tf.int32)\n",
    "matrix_2 = tf.constant([[9, 10], [8, 16]], dtype=tf.int32)\n",
    "# Calculating matrix multiplication\n",
    "matrix_product = tf.matmul(matrix_1, matrix_2)\n",
    "print(matrix_product.numpy())"
   ]
  },
  {
   "cell_type": "markdown",
   "id": "cf091c08",
   "metadata": {},
   "source": [
    "tf.matmul function is used to perform matrix multiplication."
   ]
  }
 ],
 "metadata": {
  "kernelspec": {
   "display_name": "Python 3 (ipykernel)",
   "language": "python",
   "name": "python3"
  },
  "language_info": {
   "codemirror_mode": {
    "name": "ipython",
    "version": 3
   },
   "file_extension": ".py",
   "mimetype": "text/x-python",
   "name": "python",
   "nbconvert_exporter": "python",
   "pygments_lexer": "ipython3",
   "version": "3.9.16"
  }
 },
 "nbformat": 4,
 "nbformat_minor": 5
}
