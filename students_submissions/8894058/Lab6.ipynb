{
 "cells": [
  {
   "cell_type": "markdown",
   "id": "88b42f66",
   "metadata": {},
   "source": [
    "# Name : Samarth Deshpande"
   ]
  },
  {
   "cell_type": "markdown",
   "id": "8bf65e10",
   "metadata": {},
   "source": [
    "# Student No - 8894058"
   ]
  },
  {
   "cell_type": "code",
   "execution_count": 27,
   "id": "3a4328f6",
   "metadata": {},
   "outputs": [],
   "source": [
    "from sklearn.datasets import load_iris\n",
    "from sklearn.linear_model import LogisticRegression\n",
    "from sklearn.model_selection import cross_val_score\n",
    "from sklearn.model_selection import train_test_split\n",
    "from sklearn.metrics import precision_recall_curve,precision_score,accuracy_score,confusion_matrix,f1_score,recall_score\n",
    "import pandas as pd\n",
    "import numpy as np"
   ]
  },
  {
   "cell_type": "code",
   "execution_count": 28,
   "id": "763bf9cb",
   "metadata": {},
   "outputs": [],
   "source": [
    "# Load the Iris dataset\n",
    "iris = load_iris(as_frame=True) "
   ]
  },
  {
   "cell_type": "code",
   "execution_count": 29,
   "id": "05dc9850",
   "metadata": {},
   "outputs": [],
   "source": [
    "# Extract features X and labels y\n",
    "X = iris.data\n",
    "y = iris.target"
   ]
  },
  {
   "cell_type": "code",
   "execution_count": 30,
   "id": "c96665af",
   "metadata": {},
   "outputs": [],
   "source": [
    "# Convert labels setosa and versicolor as one class and virginica as another class\n",
    "y[y != 2] = 0  # Set labels other than virginica as 0 so iris setosa and versicolor is set to non virginica class 0\n",
    "y[y == 2] = 1  # Set virginica labels as 1"
   ]
  },
  {
   "cell_type": "code",
   "execution_count": 31,
   "id": "247fcfd1",
   "metadata": {},
   "outputs": [
    {
     "data": {
      "text/html": [
       "<div>\n",
       "<style scoped>\n",
       "    .dataframe tbody tr th:only-of-type {\n",
       "        vertical-align: middle;\n",
       "    }\n",
       "\n",
       "    .dataframe tbody tr th {\n",
       "        vertical-align: top;\n",
       "    }\n",
       "\n",
       "    .dataframe thead th {\n",
       "        text-align: right;\n",
       "    }\n",
       "</style>\n",
       "<table border=\"1\" class=\"dataframe\">\n",
       "  <thead>\n",
       "    <tr style=\"text-align: right;\">\n",
       "      <th></th>\n",
       "      <th>sepal length (cm)</th>\n",
       "      <th>sepal width (cm)</th>\n",
       "      <th>petal length (cm)</th>\n",
       "      <th>petal width (cm)</th>\n",
       "    </tr>\n",
       "  </thead>\n",
       "  <tbody>\n",
       "    <tr>\n",
       "      <th>0</th>\n",
       "      <td>5.1</td>\n",
       "      <td>3.5</td>\n",
       "      <td>1.4</td>\n",
       "      <td>0.2</td>\n",
       "    </tr>\n",
       "    <tr>\n",
       "      <th>1</th>\n",
       "      <td>4.9</td>\n",
       "      <td>3.0</td>\n",
       "      <td>1.4</td>\n",
       "      <td>0.2</td>\n",
       "    </tr>\n",
       "    <tr>\n",
       "      <th>2</th>\n",
       "      <td>4.7</td>\n",
       "      <td>3.2</td>\n",
       "      <td>1.3</td>\n",
       "      <td>0.2</td>\n",
       "    </tr>\n",
       "    <tr>\n",
       "      <th>3</th>\n",
       "      <td>4.6</td>\n",
       "      <td>3.1</td>\n",
       "      <td>1.5</td>\n",
       "      <td>0.2</td>\n",
       "    </tr>\n",
       "    <tr>\n",
       "      <th>4</th>\n",
       "      <td>5.0</td>\n",
       "      <td>3.6</td>\n",
       "      <td>1.4</td>\n",
       "      <td>0.2</td>\n",
       "    </tr>\n",
       "    <tr>\n",
       "      <th>...</th>\n",
       "      <td>...</td>\n",
       "      <td>...</td>\n",
       "      <td>...</td>\n",
       "      <td>...</td>\n",
       "    </tr>\n",
       "    <tr>\n",
       "      <th>145</th>\n",
       "      <td>6.7</td>\n",
       "      <td>3.0</td>\n",
       "      <td>5.2</td>\n",
       "      <td>2.3</td>\n",
       "    </tr>\n",
       "    <tr>\n",
       "      <th>146</th>\n",
       "      <td>6.3</td>\n",
       "      <td>2.5</td>\n",
       "      <td>5.0</td>\n",
       "      <td>1.9</td>\n",
       "    </tr>\n",
       "    <tr>\n",
       "      <th>147</th>\n",
       "      <td>6.5</td>\n",
       "      <td>3.0</td>\n",
       "      <td>5.2</td>\n",
       "      <td>2.0</td>\n",
       "    </tr>\n",
       "    <tr>\n",
       "      <th>148</th>\n",
       "      <td>6.2</td>\n",
       "      <td>3.4</td>\n",
       "      <td>5.4</td>\n",
       "      <td>2.3</td>\n",
       "    </tr>\n",
       "    <tr>\n",
       "      <th>149</th>\n",
       "      <td>5.9</td>\n",
       "      <td>3.0</td>\n",
       "      <td>5.1</td>\n",
       "      <td>1.8</td>\n",
       "    </tr>\n",
       "  </tbody>\n",
       "</table>\n",
       "<p>150 rows × 4 columns</p>\n",
       "</div>"
      ],
      "text/plain": [
       "     sepal length (cm)  sepal width (cm)  petal length (cm)  petal width (cm)\n",
       "0                  5.1               3.5                1.4               0.2\n",
       "1                  4.9               3.0                1.4               0.2\n",
       "2                  4.7               3.2                1.3               0.2\n",
       "3                  4.6               3.1                1.5               0.2\n",
       "4                  5.0               3.6                1.4               0.2\n",
       "..                 ...               ...                ...               ...\n",
       "145                6.7               3.0                5.2               2.3\n",
       "146                6.3               2.5                5.0               1.9\n",
       "147                6.5               3.0                5.2               2.0\n",
       "148                6.2               3.4                5.4               2.3\n",
       "149                5.9               3.0                5.1               1.8\n",
       "\n",
       "[150 rows x 4 columns]"
      ]
     },
     "execution_count": 31,
     "metadata": {},
     "output_type": "execute_result"
    }
   ],
   "source": [
    "X"
   ]
  },
  {
   "cell_type": "code",
   "execution_count": 32,
   "id": "eeb7539b",
   "metadata": {},
   "outputs": [
    {
     "data": {
      "text/plain": [
       "0      0\n",
       "1      0\n",
       "2      0\n",
       "3      0\n",
       "4      0\n",
       "      ..\n",
       "145    1\n",
       "146    1\n",
       "147    1\n",
       "148    1\n",
       "149    1\n",
       "Name: target, Length: 150, dtype: int32"
      ]
     },
     "execution_count": 32,
     "metadata": {},
     "output_type": "execute_result"
    }
   ],
   "source": [
    "y"
   ]
  },
  {
   "cell_type": "markdown",
   "id": "b8e7f738",
   "metadata": {},
   "source": [
    "# Checking for value count of dependent feature"
   ]
  },
  {
   "cell_type": "code",
   "execution_count": 33,
   "id": "ffdb0d08",
   "metadata": {},
   "outputs": [
    {
     "data": {
      "text/plain": [
       "0    100\n",
       "1     50\n",
       "Name: target, dtype: int64"
      ]
     },
     "execution_count": 33,
     "metadata": {},
     "output_type": "execute_result"
    }
   ],
   "source": [
    "pd.Series(y).value_counts()"
   ]
  },
  {
   "cell_type": "code",
   "execution_count": 34,
   "id": "132a68d2",
   "metadata": {},
   "outputs": [],
   "source": [
    "# Fitting the model"
   ]
  },
  {
   "cell_type": "code",
   "execution_count": 35,
   "id": "53fe4007",
   "metadata": {},
   "outputs": [
    {
     "data": {
      "text/html": [
       "<style>#sk-container-id-2 {color: black;background-color: white;}#sk-container-id-2 pre{padding: 0;}#sk-container-id-2 div.sk-toggleable {background-color: white;}#sk-container-id-2 label.sk-toggleable__label {cursor: pointer;display: block;width: 100%;margin-bottom: 0;padding: 0.3em;box-sizing: border-box;text-align: center;}#sk-container-id-2 label.sk-toggleable__label-arrow:before {content: \"▸\";float: left;margin-right: 0.25em;color: #696969;}#sk-container-id-2 label.sk-toggleable__label-arrow:hover:before {color: black;}#sk-container-id-2 div.sk-estimator:hover label.sk-toggleable__label-arrow:before {color: black;}#sk-container-id-2 div.sk-toggleable__content {max-height: 0;max-width: 0;overflow: hidden;text-align: left;background-color: #f0f8ff;}#sk-container-id-2 div.sk-toggleable__content pre {margin: 0.2em;color: black;border-radius: 0.25em;background-color: #f0f8ff;}#sk-container-id-2 input.sk-toggleable__control:checked~div.sk-toggleable__content {max-height: 200px;max-width: 100%;overflow: auto;}#sk-container-id-2 input.sk-toggleable__control:checked~label.sk-toggleable__label-arrow:before {content: \"▾\";}#sk-container-id-2 div.sk-estimator input.sk-toggleable__control:checked~label.sk-toggleable__label {background-color: #d4ebff;}#sk-container-id-2 div.sk-label input.sk-toggleable__control:checked~label.sk-toggleable__label {background-color: #d4ebff;}#sk-container-id-2 input.sk-hidden--visually {border: 0;clip: rect(1px 1px 1px 1px);clip: rect(1px, 1px, 1px, 1px);height: 1px;margin: -1px;overflow: hidden;padding: 0;position: absolute;width: 1px;}#sk-container-id-2 div.sk-estimator {font-family: monospace;background-color: #f0f8ff;border: 1px dotted black;border-radius: 0.25em;box-sizing: border-box;margin-bottom: 0.5em;}#sk-container-id-2 div.sk-estimator:hover {background-color: #d4ebff;}#sk-container-id-2 div.sk-parallel-item::after {content: \"\";width: 100%;border-bottom: 1px solid gray;flex-grow: 1;}#sk-container-id-2 div.sk-label:hover label.sk-toggleable__label {background-color: #d4ebff;}#sk-container-id-2 div.sk-serial::before {content: \"\";position: absolute;border-left: 1px solid gray;box-sizing: border-box;top: 0;bottom: 0;left: 50%;z-index: 0;}#sk-container-id-2 div.sk-serial {display: flex;flex-direction: column;align-items: center;background-color: white;padding-right: 0.2em;padding-left: 0.2em;position: relative;}#sk-container-id-2 div.sk-item {position: relative;z-index: 1;}#sk-container-id-2 div.sk-parallel {display: flex;align-items: stretch;justify-content: center;background-color: white;position: relative;}#sk-container-id-2 div.sk-item::before, #sk-container-id-2 div.sk-parallel-item::before {content: \"\";position: absolute;border-left: 1px solid gray;box-sizing: border-box;top: 0;bottom: 0;left: 50%;z-index: -1;}#sk-container-id-2 div.sk-parallel-item {display: flex;flex-direction: column;z-index: 1;position: relative;background-color: white;}#sk-container-id-2 div.sk-parallel-item:first-child::after {align-self: flex-end;width: 50%;}#sk-container-id-2 div.sk-parallel-item:last-child::after {align-self: flex-start;width: 50%;}#sk-container-id-2 div.sk-parallel-item:only-child::after {width: 0;}#sk-container-id-2 div.sk-dashed-wrapped {border: 1px dashed gray;margin: 0 0.4em 0.5em 0.4em;box-sizing: border-box;padding-bottom: 0.4em;background-color: white;}#sk-container-id-2 div.sk-label label {font-family: monospace;font-weight: bold;display: inline-block;line-height: 1.2em;}#sk-container-id-2 div.sk-label-container {text-align: center;}#sk-container-id-2 div.sk-container {/* jupyter's `normalize.less` sets `[hidden] { display: none; }` but bootstrap.min.css set `[hidden] { display: none !important; }` so we also need the `!important` here to be able to override the default hidden behavior on the sphinx rendered scikit-learn.org. See: https://github.com/scikit-learn/scikit-learn/issues/21755 */display: inline-block !important;position: relative;}#sk-container-id-2 div.sk-text-repr-fallback {display: none;}</style><div id=\"sk-container-id-2\" class=\"sk-top-container\"><div class=\"sk-text-repr-fallback\"><pre>LogisticRegression()</pre><b>In a Jupyter environment, please rerun this cell to show the HTML representation or trust the notebook. <br />On GitHub, the HTML representation is unable to render, please try loading this page with nbviewer.org.</b></div><div class=\"sk-container\" hidden><div class=\"sk-item\"><div class=\"sk-estimator sk-toggleable\"><input class=\"sk-toggleable__control sk-hidden--visually\" id=\"sk-estimator-id-2\" type=\"checkbox\" checked><label for=\"sk-estimator-id-2\" class=\"sk-toggleable__label sk-toggleable__label-arrow\">LogisticRegression</label><div class=\"sk-toggleable__content\"><pre>LogisticRegression()</pre></div></div></div></div></div>"
      ],
      "text/plain": [
       "LogisticRegression()"
      ]
     },
     "execution_count": 35,
     "metadata": {},
     "output_type": "execute_result"
    }
   ],
   "source": [
    "# Performing train test split\n",
    "X_train, X_test, y_train, y_test = train_test_split(X, y, test_size=0.2, random_state=42)\n",
    "\n",
    "# Create a logistic regression model\n",
    "model = LogisticRegression()\n",
    "\n",
    "# Train the model\n",
    "model.fit(X_train, y_train)"
   ]
  },
  {
   "cell_type": "markdown",
   "id": "fa70f248",
   "metadata": {},
   "source": [
    "# predictions"
   ]
  },
  {
   "cell_type": "code",
   "execution_count": 37,
   "id": "5f033ac9",
   "metadata": {},
   "outputs": [],
   "source": [
    "# new prediction\n",
    "y_pred = model.predict(X_test)"
   ]
  },
  {
   "cell_type": "markdown",
   "id": "e9cf1095",
   "metadata": {},
   "source": [
    "# probability of predicting both the classes"
   ]
  },
  {
   "cell_type": "code",
   "execution_count": 38,
   "id": "5ff47b13",
   "metadata": {},
   "outputs": [
    {
     "data": {
      "text/plain": [
       "array([[8.00397233e-01, 1.99602767e-01],\n",
       "       [9.99994298e-01, 5.70191129e-06],\n",
       "       [1.46618716e-03, 9.98533813e-01],\n",
       "       [7.92994822e-01, 2.07005178e-01],\n",
       "       [7.24310548e-01, 2.75689452e-01],\n",
       "       [9.99994189e-01, 5.81098859e-06],\n",
       "       [9.83803900e-01, 1.61961003e-02],\n",
       "       [1.79777747e-01, 8.20222253e-01],\n",
       "       [7.27790745e-01, 2.72209255e-01],\n",
       "       [9.68745254e-01, 3.12547458e-02]])"
      ]
     },
     "execution_count": 38,
     "metadata": {},
     "output_type": "execute_result"
    }
   ],
   "source": [
    "y_probs = model.predict_proba(X_test)\n",
    "y_probs[:10]\n",
    "\n",
    "# row 1 suggests that the model assigns a probability of approximately 0.8004 (80.04%) to class 0 \n",
    "# and a probability of approximately 0.1996 (19.96%) to class 1\n",
    "\n",
    "# For row 2\n",
    "# suggests that the model assigns a very high probability approximately 0.999994298 or 99.999% to class 0\n",
    "# and an extremely low probability approximately 0.0000057019 or 0.00057% to class 1"
   ]
  },
  {
   "cell_type": "markdown",
   "id": "14451f65",
   "metadata": {},
   "source": [
    "# Indexing only outcomes for predicting [1]"
   ]
  },
  {
   "cell_type": "code",
   "execution_count": 39,
   "id": "dc4d77f5",
   "metadata": {},
   "outputs": [
    {
     "data": {
      "text/plain": [
       "array([1.99602767e-01, 5.70191129e-06, 9.98533813e-01, 2.07005178e-01,\n",
       "       2.75689452e-01, 5.81098859e-06, 1.61961003e-02, 8.20222253e-01,\n",
       "       2.72209255e-01, 3.12547458e-02, 7.28197616e-01, 3.81722513e-06,\n",
       "       1.98469717e-06, 4.55483771e-06, 4.12878974e-06, 2.79867261e-01,\n",
       "       9.69923863e-01, 3.10811299e-02, 1.70670124e-01, 9.56114021e-01,\n",
       "       7.52261030e-06, 5.72730459e-01, 8.96423650e-06, 9.46486929e-01,\n",
       "       9.75413562e-01, 8.73922162e-01, 9.46563750e-01, 9.76302045e-01,\n",
       "       5.79168878e-06, 7.70234558e-06])"
      ]
     },
     "execution_count": 39,
     "metadata": {},
     "output_type": "execute_result"
    }
   ],
   "source": [
    "y_probs_positive = y_probs[:,1]\n",
    "y_probs_positive"
   ]
  },
  {
   "cell_type": "markdown",
   "id": "907b149f",
   "metadata": {},
   "source": [
    "# Indexing outcomes for [0]"
   ]
  },
  {
   "cell_type": "code",
   "execution_count": 40,
   "id": "1febf671",
   "metadata": {},
   "outputs": [
    {
     "data": {
      "text/plain": [
       "array([0.80039723, 0.9999943 , 0.00146619, 0.79299482, 0.72431055,\n",
       "       0.99999419, 0.9838039 , 0.17977775, 0.72779074, 0.96874525,\n",
       "       0.27180238, 0.99999618, 0.99999802, 0.99999545, 0.99999587,\n",
       "       0.72013274, 0.03007614, 0.96891887, 0.82932988, 0.04388598,\n",
       "       0.99999248, 0.42726954, 0.99999104, 0.05351307, 0.02458644,\n",
       "       0.12607784, 0.05343625, 0.02369795, 0.99999421, 0.9999923 ])"
      ]
     },
     "execution_count": 40,
     "metadata": {},
     "output_type": "execute_result"
    }
   ],
   "source": [
    "y_probs_negative = y_probs[:,0]\n",
    "y_probs_negative"
   ]
  },
  {
   "cell_type": "markdown",
   "id": "435f3bdb",
   "metadata": {},
   "source": [
    "# Calculation False Positive Rate, True Positive Rate"
   ]
  },
  {
   "cell_type": "code",
   "execution_count": 41,
   "id": "623f60b0",
   "metadata": {},
   "outputs": [],
   "source": [
    "false_positive_rate,true_positive_rate,thresholds = roc_curve(y_test,y_probs_positive) "
   ]
  },
  {
   "cell_type": "markdown",
   "id": "bfcf20ff",
   "metadata": {},
   "source": [
    "# Cross Validation with scoring parameter as accuracy with 10 splits"
   ]
  },
  {
   "cell_type": "code",
   "execution_count": 42,
   "id": "60111719",
   "metadata": {},
   "outputs": [
    {
     "data": {
      "text/plain": [
       "array([1.        , 1.        , 0.91666667, 1.        , 0.91666667,\n",
       "       0.83333333, 1.        , 1.        , 1.        , 0.91666667])"
      ]
     },
     "execution_count": 42,
     "metadata": {},
     "output_type": "execute_result"
    }
   ],
   "source": [
    "scores = cross_val_score(model, X_train, y_train, cv=10, scoring='accuracy')\n",
    "scores"
   ]
  },
  {
   "cell_type": "code",
   "execution_count": 43,
   "id": "9d248a3a",
   "metadata": {},
   "outputs": [
    {
     "name": "stdout",
     "output_type": "stream",
     "text": [
      "The mean cross validation accuracy of the model is  0.9583333333333333\n"
     ]
    }
   ],
   "source": [
    "print(\"The mean cross validation accuracy of the model is \",scores.mean())"
   ]
  },
  {
   "cell_type": "code",
   "execution_count": 44,
   "id": "25de5c02",
   "metadata": {},
   "outputs": [
    {
     "name": "stdout",
     "output_type": "stream",
     "text": [
      "Accuracy: 1.0\n",
      "Precision: 1.0\n",
      "Recall: 1.0\n",
      "F1 Score: 1.0\n"
     ]
    }
   ],
   "source": [
    "precision = precision_score(y_test, y_pred)\n",
    "recall = recall_score(y_test, y_pred)\n",
    "f1 = f1_score(y_test, y_pred)\n",
    "accuracy = accuracy_score(y_test,y_pred)\n",
    "\n",
    "print('Accuracy:', accuracy)\n",
    "print('Precision:', precision)\n",
    "print('Recall:', recall)\n",
    "print('F1 Score:', f1)"
   ]
  },
  {
   "cell_type": "markdown",
   "id": "b3e6b565",
   "metadata": {},
   "source": [
    "# Confusion Matrix"
   ]
  },
  {
   "cell_type": "code",
   "execution_count": 45,
   "id": "47e2e3f5",
   "metadata": {},
   "outputs": [
    {
     "data": {
      "text/plain": [
       "array([[19,  0],\n",
       "       [ 0, 11]], dtype=int64)"
      ]
     },
     "execution_count": 45,
     "metadata": {},
     "output_type": "execute_result"
    }
   ],
   "source": [
    "cm = confusion_matrix(y_test,y_pred)\n",
    "cm"
   ]
  },
  {
   "cell_type": "markdown",
   "id": "d6847cb9",
   "metadata": {},
   "source": [
    "# From the above confusion matrix we can see that there are no false postives and false negatives"
   ]
  },
  {
   "cell_type": "markdown",
   "id": "472cfbdc",
   "metadata": {},
   "source": [
    "# Classification report table"
   ]
  },
  {
   "cell_type": "code",
   "execution_count": 46,
   "id": "78261de9",
   "metadata": {
    "scrolled": true
   },
   "outputs": [
    {
     "name": "stdout",
     "output_type": "stream",
     "text": [
      "              precision    recall  f1-score   support\n",
      "\n",
      "           0       1.00      1.00      1.00        19\n",
      "           1       1.00      1.00      1.00        11\n",
      "\n",
      "    accuracy                           1.00        30\n",
      "   macro avg       1.00      1.00      1.00        30\n",
      "weighted avg       1.00      1.00      1.00        30\n",
      "\n"
     ]
    }
   ],
   "source": [
    "from sklearn.metrics import classification_report\n",
    "print(classification_report(y_test, y_pred))"
   ]
  },
  {
   "cell_type": "markdown",
   "id": "feb48b05",
   "metadata": {},
   "source": [
    "# Failure modes: in which data instances is the model wrong? "
   ]
  },
  {
   "cell_type": "markdown",
   "id": "d17493c0",
   "metadata": {},
   "source": [
    "The model is given 100% accuracy. But model is overfitting."
   ]
  },
  {
   "cell_type": "markdown",
   "id": "7253a656",
   "metadata": {},
   "source": [
    "# Are there any shared properties for these cases? "
   ]
  },
  {
   "cell_type": "markdown",
   "id": "970a1fb8",
   "metadata": {},
   "source": [
    "There are no shared properties as model is giving 100% accuracy. By seeing confusion matrix we can say there are no false positive and false negative."
   ]
  },
  {
   "cell_type": "markdown",
   "id": "27355382",
   "metadata": {},
   "source": [
    "# How is the model doing across a set of evaluation metrics: accuracy and confusion metric. "
   ]
  },
  {
   "cell_type": "markdown",
   "id": "90641b17",
   "metadata": {},
   "source": [
    "On the basis on evaluation matrix model has 100% accuracy and for confusion matix it has no false positive and false negative."
   ]
  },
  {
   "cell_type": "markdown",
   "id": "cd7a3568",
   "metadata": {},
   "source": [
    "When we use more advance evaluation techniques as a cross validation we can say that for some instances model porformance drops. and by using corss validation with 10 splits we got average accuracy of 95%."
   ]
  }
 ],
 "metadata": {
  "kernelspec": {
   "display_name": "Python 3 (ipykernel)",
   "language": "python",
   "name": "python3"
  },
  "language_info": {
   "codemirror_mode": {
    "name": "ipython",
    "version": 3
   },
   "file_extension": ".py",
   "mimetype": "text/x-python",
   "name": "python",
   "nbconvert_exporter": "python",
   "pygments_lexer": "ipython3",
   "version": "3.9.16"
  }
 },
 "nbformat": 4,
 "nbformat_minor": 5
}
