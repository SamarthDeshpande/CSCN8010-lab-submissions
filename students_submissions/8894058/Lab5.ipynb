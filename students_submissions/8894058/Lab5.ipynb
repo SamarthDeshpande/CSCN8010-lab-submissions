{
 "cells": [
  {
   "cell_type": "code",
   "execution_count": 1,
   "id": "141c5371",
   "metadata": {},
   "outputs": [],
   "source": [
    "import numpy as np\n",
    "import pandas as pd\n",
    "import seaborn as sns\n",
    "import matplotlib.pyplot as plt\n",
    "from sklearn.metrics import r2_score, mean_absolute_error,mean_squared_error,mean_absolute_percentage_error\n",
    "from sklearn.model_selection import KFold, cross_val_score\n",
    "from sklearn.preprocessing import PolynomialFeatures\n",
    "from sklearn.linear_model import LinearRegression\n",
    "from sklearn.pipeline import Pipeline"
   ]
  },
  {
   "cell_type": "code",
   "execution_count": 2,
   "id": "b6f8163f",
   "metadata": {},
   "outputs": [],
   "source": [
    "from sklearn import datasets\n",
    "diabetes_X,diabetes_y = datasets.load_diabetes(return_X_y=True)"
   ]
  },
  {
   "cell_type": "code",
   "execution_count": 3,
   "id": "a5b213d5",
   "metadata": {},
   "outputs": [],
   "source": [
    "diabetes = pd.DataFrame(diabetes_X,columns = [\"age\",\"sex\",\"bmi\",\"bp\",\"s1\",\"s2\",\"s3\",\"s4\",\"s5\",\"s6\"])\n",
    "diabetes[\"dis_prog\"] = pd.DataFrame(diabetes_y)"
   ]
  },
  {
   "cell_type": "code",
   "execution_count": 4,
   "id": "e15256a2",
   "metadata": {},
   "outputs": [],
   "source": [
    "X = diabetes.iloc[:,:-1]\n",
    "y = diabetes.iloc[:,-1]"
   ]
  },
  {
   "cell_type": "code",
   "execution_count": 14,
   "id": "47c541bd",
   "metadata": {},
   "outputs": [
    {
     "name": "stdout",
     "output_type": "stream",
     "text": [
      "   Degree          R         MAE      MAPE\n",
      "0       0  -0.039767   65.948459  0.622416\n",
      "1       1   0.461960   44.223084  0.394551\n",
      "2       2   0.379861   45.873376  0.392139\n",
      "3       3 -37.884452  208.731680  1.706457\n",
      "4       4 -72.819234  329.077072  2.704894\n",
      "5       5 -65.606865  312.433209  2.567480\n",
      "6       6 -65.480725  312.239540  2.565924\n",
      "7       7 -65.478739  312.235990  2.565909\n",
      "8       8 -65.478613  312.235823  2.565908\n",
      "9       9 -65.477435  312.235857  2.565900\n"
     ]
    }
   ],
   "source": [
    "# List to store degree from 0 to 9 and also to store R2, MAE, MAPE\n",
    "degrees = []\n",
    "r2_scores = []\n",
    "mae_scores = []\n",
    "mape_scores = []\n",
    "\n",
    "\n",
    "for degree in range(10):\n",
    "    # Creating Polynomiall Fuction\n",
    "    poly_features = PolynomialFeatures(degree=degree)\n",
    "    X_poly = poly_features.fit_transform(X)\n",
    "    \n",
    "    # Performing cross validation using 10 splits,here the default  scoring is -mean absolute error and % error \n",
    "    #so we have used (-) lower values of mae and mape is better. \n",
    "    model = LinearRegression()\n",
    "    r2_score = cross_val_score(model, X_poly, y, cv=10, scoring='r2')\n",
    "    mae =  -cross_val_score(model, X_poly, y, cv=10, scoring='neg_mean_absolute_error')\n",
    "    mape = -cross_val_score(model, X_poly, y, cv = 10, scoring  = 'neg_mean_absolute_percentage_error')\n",
    "       \n",
    "    degrees.append(degree)\n",
    "    r2_scores.append(np.mean(r2_score))\n",
    "    mae_scores.append(np.mean(mae))\n",
    "    mape_scores.append(np.mean(mape))\n",
    "   \n",
    "   #Now we have created the dataframe\n",
    "\n",
    "results_df = pd.DataFrame({'Degree': degrees,'R' : r2_scores,  'MAE' : mae_scores,'MAPE': mape_scores})\n",
    "\n",
    "#Printing the table of cross validation\n",
    "print(results_df)"
   ]
  },
  {
   "cell_type": "markdown",
   "id": "e2629c3f",
   "metadata": {},
   "source": [
    "# My inferences on Cross-validation results"
   ]
  },
  {
   "cell_type": "markdown",
   "id": "4045d712",
   "metadata": {},
   "source": [
    "The R2 values are positive for degrees 0, 1, and 2, which indicate a good fit. But the values decrease as the degree increases, which means  model do not fit in data.\n",
    "The MAE values is decreasing at 0 and 1 degree but after that it increases which indicates overfitting.\n",
    "The MAPE values for degree 0,1,2 is decreasing but after that is increasing significantly thats shows higher percentage difference between predicted and actual values."
   ]
  },
  {
   "cell_type": "markdown",
   "id": "2542cba3",
   "metadata": {},
   "source": [
    "# Calculating Mean and Standard Deviation of MAE, MAPE, R2 "
   ]
  },
  {
   "cell_type": "code",
   "execution_count": 19,
   "id": "9623f185",
   "metadata": {},
   "outputs": [],
   "source": [
    "mean_r_squared = results_df['R'].mean()\n",
    "standard_dev_r2_score = results_df['R'].std()\n",
    "mean_mae = results_df['MAE'].mean()\n",
    "standard_deviation_mae = results_df['MAE'].std()\n",
    "mean_mape = results_df['MAPE'].mean()\n",
    "standard_mape = results_df['MAPE'].std()"
   ]
  },
  {
   "cell_type": "markdown",
   "id": "15485169",
   "metadata": {},
   "source": [
    "# Printing the Mean and Std of R2, MAE and MAPE"
   ]
  },
  {
   "cell_type": "code",
   "execution_count": 17,
   "id": "c87c9794",
   "metadata": {},
   "outputs": [
    {
     "name": "stdout",
     "output_type": "stream",
     "text": [
      "Mean R-Squared: -43.7424\n",
      "Standard Deviation of R-Squared: 31.7253\n",
      "Mean MAE: 225.5234\n",
      "Standard Deviation of MAE: 124.3845\n",
      "Mean MAPE: 1.8652\n",
      "Standard Deviation of MAPE: 1.0036\n"
     ]
    }
   ],
   "source": [
    "print(f\"Mean R-Squared: {mean_r_squared :.4f}\")\n",
    "print(f\"Standard Deviation of R-Squared: {standard_dev_r2_score:.4f}\")\n",
    "print(f\"Mean MAE: {mean_mae:.4f}\")\n",
    "print(f\"Standard Deviation of MAE: {standard_deviation_mae:.4f}\")\n",
    "print(f\"Mean MAPE: {mean_mape:.4f}\")\n",
    "print(f\"Standard Deviation of MAPE: {standard_mape:.4f}\")"
   ]
  },
  {
   "cell_type": "code",
   "execution_count": 18,
   "id": "7bdbe785",
   "metadata": {},
   "outputs": [
    {
     "name": "stdout",
     "output_type": "stream",
     "text": [
      "\n",
      "Best Model based on R2:\n",
      "Degree     1.000000\n",
      "R          0.461960\n",
      "MAE       44.223084\n",
      "MAPE       0.394551\n",
      "Name: 1, dtype: float64\n",
      "\n",
      "Best Model based on MAE:\n",
      "Degree     1.000000\n",
      "R          0.461960\n",
      "MAE       44.223084\n",
      "MAPE       0.394551\n",
      "Name: 1, dtype: float64\n",
      "\n",
      "Best Model based on MAPE:\n",
      "Degree     2.000000\n",
      "R          0.379861\n",
      "MAE       45.873376\n",
      "MAPE       0.392139\n",
      "Name: 2, dtype: float64\n"
     ]
    }
   ],
   "source": [
    "r2_best_model = results_df['R'].idxmax()\n",
    "mae_best_model = results_df['MAE'].idxmin()\n",
    "mape_best_model = results_df['MAPE'].idxmin()\n",
    "\n",
    "\n",
    "print(\"\\nBest Model based on R2:\")\n",
    "print(results_df.loc[r2_best_model])\n",
    "\n",
    "print(\"\\nBest Model based on MAE:\")\n",
    "print(results_df.loc[mae_best_model])\n",
    "\n",
    "print(\"\\nBest Model based on MAPE:\")\n",
    "print(results_df.loc[mape_best_model])"
   ]
  },
  {
   "cell_type": "markdown",
   "id": "95409d3b",
   "metadata": {},
   "source": [
    "# Inferences "
   ]
  },
  {
   "cell_type": "markdown",
   "id": "c1f16baf",
   "metadata": {},
   "source": [
    "## 1)The polynomial degree of the good model is 1 because\n",
    "## 3)The average difference between the predicted and actual values is shown by the mean absolute error which is 44.22.\n",
    "## 4)The average percentage difference between predicted and actual values is shown by the Mean Absolute Percentage Error which is 0.394551 which is 39%.\n",
    "## 5)Here we can see that model with degree 1 and degree 2 has slight difference of 0.0021 which we can neglate, so over all Model with degree of polynomial degree 1 is good as compared to other model. "
   ]
  }
 ],
 "metadata": {
  "kernelspec": {
   "display_name": "Python 3 (ipykernel)",
   "language": "python",
   "name": "python3"
  },
  "language_info": {
   "codemirror_mode": {
    "name": "ipython",
    "version": 3
   },
   "file_extension": ".py",
   "mimetype": "text/x-python",
   "name": "python",
   "nbconvert_exporter": "python",
   "pygments_lexer": "ipython3",
   "version": "3.9.16"
  }
 },
 "nbformat": 4,
 "nbformat_minor": 5
}
