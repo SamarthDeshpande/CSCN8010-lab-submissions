{
 "cells": [
  {
   "cell_type": "markdown",
   "id": "afcb8cfa",
   "metadata": {
    "id": "afcb8cfa"
   },
   "source": [
    "# Name : Samarth Deshpande\n",
    "# Student ID  : 8894058"
   ]
  },
  {
   "cell_type": "markdown",
   "id": "60044475",
   "metadata": {
    "id": "60044475"
   },
   "source": [
    "# Importing Libraries"
   ]
  },
  {
   "cell_type": "code",
   "execution_count": 9,
   "id": "1a54d9b1",
   "metadata": {
    "executionInfo": {
     "elapsed": 16,
     "status": "ok",
     "timestamp": 1697338990507,
     "user": {
      "displayName": "Jay Lunia",
      "userId": "11776929840361262150"
     },
     "user_tz": 240
    },
    "id": "1a54d9b1"
   },
   "outputs": [],
   "source": [
    "import numpy as np\n",
    "import pandas as pd\n",
    "from sklearn.metrics import r2_score, mean_absolute_error,mean_squared_error,mean_absolute_percentage_error\n",
    "from sklearn.preprocessing import PolynomialFeatures\n",
    "from sklearn.linear_model import LinearRegression\n",
    "from sklearn.model_selection import train_test_split"
   ]
  },
  {
   "cell_type": "markdown",
   "id": "852e903a",
   "metadata": {
    "id": "852e903a"
   },
   "source": [
    "# Loading Dataset"
   ]
  },
  {
   "cell_type": "code",
   "execution_count": 5,
   "id": "b6f8163f",
   "metadata": {
    "executionInfo": {
     "elapsed": 15,
     "status": "ok",
     "timestamp": 1697338990508,
     "user": {
      "displayName": "Jay Lunia",
      "userId": "11776929840361262150"
     },
     "user_tz": 240
    },
    "id": "b6f8163f"
   },
   "outputs": [],
   "source": [
    "from sklearn import datasets\n",
    "X, y = datasets.load_diabetes(return_X_y=True, as_frame=True , scaled=True)"
   ]
  },
  {
   "cell_type": "markdown",
   "id": "87ef2840",
   "metadata": {
    "id": "87ef2840"
   },
   "source": [
    "# Splitting into indepndent and dependent variable"
   ]
  },
  {
   "cell_type": "code",
   "execution_count": 6,
   "id": "e15256a2",
   "metadata": {
    "executionInfo": {
     "elapsed": 15,
     "status": "ok",
     "timestamp": 1697338990508,
     "user": {
      "displayName": "Jay Lunia",
      "userId": "11776929840361262150"
     },
     "user_tz": 240
    },
    "id": "e15256a2"
   },
   "outputs": [],
   "source": [
    "X_train, X_test, y_train, y_test = train_test_split(X, y, test_size=0.2, random_state=42)"
   ]
  },
  {
   "cell_type": "code",
   "execution_count": 7,
   "id": "31ac4470",
   "metadata": {
    "colab": {
     "base_uri": "https://localhost:8080/"
    },
    "executionInfo": {
     "elapsed": 46591,
     "status": "ok",
     "timestamp": 1697339037085,
     "user": {
      "displayName": "Jay Lunia",
      "userId": "11776929840361262150"
     },
     "user_tz": 240
    },
    "id": "31ac4470",
    "outputId": "6f34826d-5da1-4c72-bb0d-089db1dec01e"
   },
   "outputs": [
    {
     "name": "stderr",
     "output_type": "stream",
     "text": [
      "[Parallel(n_jobs=-1)]: Using backend LokyBackend with 8 concurrent workers.\n",
      "[Parallel(n_jobs=-1)]: Done   7 out of  10 | elapsed:    3.9s remaining:    1.6s\n",
      "[Parallel(n_jobs=-1)]: Done  10 out of  10 | elapsed:    4.0s finished\n",
      "[Parallel(n_jobs=-1)]: Using backend LokyBackend with 8 concurrent workers.\n",
      "[Parallel(n_jobs=-1)]: Done   7 out of  10 | elapsed:    0.6s remaining:    0.2s\n",
      "[Parallel(n_jobs=-1)]: Done  10 out of  10 | elapsed:    0.6s finished\n",
      "[Parallel(n_jobs=-1)]: Using backend LokyBackend with 8 concurrent workers.\n",
      "[Parallel(n_jobs=-1)]: Done   7 out of  10 | elapsed:    0.0s remaining:    0.0s\n",
      "[Parallel(n_jobs=-1)]: Done  10 out of  10 | elapsed:    0.0s finished\n",
      "[Parallel(n_jobs=-1)]: Using backend LokyBackend with 8 concurrent workers.\n",
      "[Parallel(n_jobs=-1)]: Done   7 out of  10 | elapsed:    0.0s remaining:    0.0s\n",
      "[Parallel(n_jobs=-1)]: Done  10 out of  10 | elapsed:    0.0s finished\n",
      "[Parallel(n_jobs=-1)]: Using backend LokyBackend with 8 concurrent workers.\n",
      "[Parallel(n_jobs=-1)]: Done   7 out of  10 | elapsed:    0.1s remaining:    0.0s\n",
      "[Parallel(n_jobs=-1)]: Done  10 out of  10 | elapsed:    0.1s finished\n",
      "[Parallel(n_jobs=-1)]: Using backend LokyBackend with 8 concurrent workers.\n",
      "[Parallel(n_jobs=-1)]: Done   7 out of  10 | elapsed:    0.3s remaining:    0.1s\n",
      "[Parallel(n_jobs=-1)]: Done  10 out of  10 | elapsed:    0.5s finished\n",
      "[Parallel(n_jobs=-1)]: Using backend LokyBackend with 8 concurrent workers.\n",
      "[Parallel(n_jobs=-1)]: Done   7 out of  10 | elapsed:    1.2s remaining:    0.5s\n",
      "[Parallel(n_jobs=-1)]: Done  10 out of  10 | elapsed:    1.6s finished\n",
      "[Parallel(n_jobs=-1)]: Using backend LokyBackend with 8 concurrent workers.\n",
      "[Parallel(n_jobs=-1)]: Done   7 out of  10 | elapsed:    4.4s remaining:    1.8s\n",
      "[Parallel(n_jobs=-1)]: Done  10 out of  10 | elapsed:    5.1s finished\n",
      "[Parallel(n_jobs=-1)]: Using backend LokyBackend with 8 concurrent workers.\n",
      "[Parallel(n_jobs=-1)]: Done   7 out of  10 | elapsed:   17.9s remaining:    7.6s\n",
      "[Parallel(n_jobs=-1)]: Done  10 out of  10 | elapsed:   21.1s finished\n",
      "[Parallel(n_jobs=-1)]: Using backend LokyBackend with 8 concurrent workers.\n",
      "[Parallel(n_jobs=-1)]: Done   7 out of  10 | elapsed:  1.3min remaining:   33.3s\n",
      "[Parallel(n_jobs=-1)]: Done  10 out of  10 | elapsed:  1.3min finished\n"
     ]
    }
   ],
   "source": [
    "from sklearn.model_selection import cross_validate\n",
    "\n",
    "# List to store degree from 0 to 9 and also to store R2, MAE, MAPE\n",
    "degrees = []\n",
    "r2_mean_scores = []\n",
    "mae_mean_scores = []\n",
    "mape_mean_scores = []\n",
    "r2_std_scores = []\n",
    "mae_std_scores = []\n",
    "mape_std_scores = []\n",
    "\n",
    "for degree in range(10):\n",
    "    # Creating Polynomial Function\n",
    "    poly_features = PolynomialFeatures(degree=degree)\n",
    "    X_poly = poly_features.fit_transform(X_train)\n",
    "\n",
    "    # Performing cross-validation using 10 splits\n",
    "    model = LinearRegression()\n",
    "    scores = cross_validate(model, X_poly, y_train, cv=10, n_jobs=-1, verbose=2, scoring=['r2', 'neg_mean_absolute_error', 'neg_mean_absolute_percentage_error'])\n",
    "\n",
    "    degrees.append(degree)\n",
    "    r2_mean_scores.append(np.mean(scores['test_r2']))\n",
    "    mae_mean_scores.append(-np.mean(scores['test_neg_mean_absolute_error']))\n",
    "    mape_mean_scores.append(-np.mean(scores['test_neg_mean_absolute_percentage_error']))\n",
    "    r2_std_scores.append(np.std(scores['test_r2']))\n",
    "    mae_std_scores.append(np.std(scores['test_neg_mean_absolute_error']))\n",
    "    mape_std_scores.append(np.std(scores['test_neg_mean_absolute_percentage_error']))\n",
    "\n",
    "results_df = pd.DataFrame({'Degree': degrees, 'R2_mean': r2_mean_scores, 'MAE_mean': mae_mean_scores, 'MAPE_mean': mape_mean_scores, 'R2_std': r2_std_scores, 'MAE_std': mae_std_scores, 'MAPE_std': mape_std_scores})"
   ]
  },
  {
   "cell_type": "code",
   "execution_count": 8,
   "id": "wvX1ZPgwSGlq",
   "metadata": {
    "colab": {
     "base_uri": "https://localhost:8080/",
     "height": 363
    },
    "executionInfo": {
     "elapsed": 1057,
     "status": "ok",
     "timestamp": 1697339062354,
     "user": {
      "displayName": "Jay Lunia",
      "userId": "11776929840361262150"
     },
     "user_tz": 240
    },
    "id": "wvX1ZPgwSGlq",
    "outputId": "a9f3b387-6805-4102-ffc0-46f95568850b"
   },
   "outputs": [
    {
     "data": {
      "text/html": [
       "<div>\n",
       "<style scoped>\n",
       "    .dataframe tbody tr th:only-of-type {\n",
       "        vertical-align: middle;\n",
       "    }\n",
       "\n",
       "    .dataframe tbody tr th {\n",
       "        vertical-align: top;\n",
       "    }\n",
       "\n",
       "    .dataframe thead th {\n",
       "        text-align: right;\n",
       "    }\n",
       "</style>\n",
       "<table border=\"1\" class=\"dataframe\">\n",
       "  <thead>\n",
       "    <tr style=\"text-align: right;\">\n",
       "      <th></th>\n",
       "      <th>Degree</th>\n",
       "      <th>R2_mean</th>\n",
       "      <th>MAE_mean</th>\n",
       "      <th>MAPE_mean</th>\n",
       "      <th>R2_std</th>\n",
       "      <th>MAE_std</th>\n",
       "      <th>MAPE_std</th>\n",
       "    </tr>\n",
       "  </thead>\n",
       "  <tbody>\n",
       "    <tr>\n",
       "      <th>0</th>\n",
       "      <td>0</td>\n",
       "      <td>-0.070422</td>\n",
       "      <td>66.704968</td>\n",
       "      <td>0.631643</td>\n",
       "      <td>0.128025</td>\n",
       "      <td>10.247625</td>\n",
       "      <td>0.105315</td>\n",
       "    </tr>\n",
       "    <tr>\n",
       "      <th>1</th>\n",
       "      <td>1</td>\n",
       "      <td>0.393217</td>\n",
       "      <td>45.448783</td>\n",
       "      <td>0.405877</td>\n",
       "      <td>0.288324</td>\n",
       "      <td>3.861528</td>\n",
       "      <td>0.091139</td>\n",
       "    </tr>\n",
       "    <tr>\n",
       "      <th>2</th>\n",
       "      <td>2</td>\n",
       "      <td>0.235903</td>\n",
       "      <td>50.204970</td>\n",
       "      <td>0.432936</td>\n",
       "      <td>0.406517</td>\n",
       "      <td>5.484428</td>\n",
       "      <td>0.091591</td>\n",
       "    </tr>\n",
       "    <tr>\n",
       "      <th>3</th>\n",
       "      <td>3</td>\n",
       "      <td>-151.473209</td>\n",
       "      <td>339.743571</td>\n",
       "      <td>2.821005</td>\n",
       "      <td>243.889645</td>\n",
       "      <td>130.448712</td>\n",
       "      <td>1.236895</td>\n",
       "    </tr>\n",
       "    <tr>\n",
       "      <th>4</th>\n",
       "      <td>4</td>\n",
       "      <td>-62.021606</td>\n",
       "      <td>329.649942</td>\n",
       "      <td>2.756321</td>\n",
       "      <td>76.121104</td>\n",
       "      <td>99.917160</td>\n",
       "      <td>0.958981</td>\n",
       "    </tr>\n",
       "    <tr>\n",
       "      <th>5</th>\n",
       "      <td>5</td>\n",
       "      <td>-62.617869</td>\n",
       "      <td>321.930511</td>\n",
       "      <td>2.706063</td>\n",
       "      <td>85.348857</td>\n",
       "      <td>102.090830</td>\n",
       "      <td>0.989590</td>\n",
       "    </tr>\n",
       "    <tr>\n",
       "      <th>6</th>\n",
       "      <td>6</td>\n",
       "      <td>-62.627073</td>\n",
       "      <td>321.876398</td>\n",
       "      <td>2.705695</td>\n",
       "      <td>85.428768</td>\n",
       "      <td>102.106815</td>\n",
       "      <td>0.989760</td>\n",
       "    </tr>\n",
       "    <tr>\n",
       "      <th>7</th>\n",
       "      <td>7</td>\n",
       "      <td>-62.631675</td>\n",
       "      <td>321.873178</td>\n",
       "      <td>2.705688</td>\n",
       "      <td>85.446406</td>\n",
       "      <td>102.112017</td>\n",
       "      <td>0.989832</td>\n",
       "    </tr>\n",
       "    <tr>\n",
       "      <th>8</th>\n",
       "      <td>8</td>\n",
       "      <td>-62.632409</td>\n",
       "      <td>321.875584</td>\n",
       "      <td>2.705705</td>\n",
       "      <td>85.447207</td>\n",
       "      <td>102.111603</td>\n",
       "      <td>0.989825</td>\n",
       "    </tr>\n",
       "    <tr>\n",
       "      <th>9</th>\n",
       "      <td>9</td>\n",
       "      <td>-62.632453</td>\n",
       "      <td>321.874197</td>\n",
       "      <td>2.705693</td>\n",
       "      <td>85.448059</td>\n",
       "      <td>102.111771</td>\n",
       "      <td>0.989825</td>\n",
       "    </tr>\n",
       "  </tbody>\n",
       "</table>\n",
       "</div>"
      ],
      "text/plain": [
       "   Degree     R2_mean    MAE_mean  MAPE_mean      R2_std     MAE_std  MAPE_std\n",
       "0       0   -0.070422   66.704968   0.631643    0.128025   10.247625  0.105315\n",
       "1       1    0.393217   45.448783   0.405877    0.288324    3.861528  0.091139\n",
       "2       2    0.235903   50.204970   0.432936    0.406517    5.484428  0.091591\n",
       "3       3 -151.473209  339.743571   2.821005  243.889645  130.448712  1.236895\n",
       "4       4  -62.021606  329.649942   2.756321   76.121104   99.917160  0.958981\n",
       "5       5  -62.617869  321.930511   2.706063   85.348857  102.090830  0.989590\n",
       "6       6  -62.627073  321.876398   2.705695   85.428768  102.106815  0.989760\n",
       "7       7  -62.631675  321.873178   2.705688   85.446406  102.112017  0.989832\n",
       "8       8  -62.632409  321.875584   2.705705   85.447207  102.111603  0.989825\n",
       "9       9  -62.632453  321.874197   2.705693   85.448059  102.111771  0.989825"
      ]
     },
     "execution_count": 8,
     "metadata": {},
     "output_type": "execute_result"
    }
   ],
   "source": [
    "results_df"
   ]
  },
  {
   "cell_type": "markdown",
   "id": "ca891ae8",
   "metadata": {
    "id": "ca891ae8"
   },
   "source": [
    "# My inferences on Cross-validation results"
   ]
  },
  {
   "cell_type": "markdown",
   "id": "034fc24d",
   "metadata": {
    "id": "034fc24d"
   },
   "source": [
    "The R2 values are positve for degrees  1, and 2, which indicate a good fit. But the values decreases as the degree increases, which means  model shows poor fit.\n",
    "Here Polynomial dgree 3 is worst because R2 score is high negativly, MAE and MAPE is also high."
   ]
  },
  {
   "cell_type": "markdown",
   "id": "441c9a55",
   "metadata": {
    "id": "441c9a55"
   },
   "source": [
    "# I would choose"
   ]
  },
  {
   "cell_type": "markdown",
   "id": "ea88a53d",
   "metadata": {
    "id": "ea88a53d"
   },
   "source": [
    "# The Polynomial degree 1 because \n",
    "In comparison to the other models, it has the greatest R2 value 0.3932, meaning that it explains more variance in the target variable.\n",
    "MAPE is also good 0.40 which is lowest, which shows that its predictions are the closest to the actual values.\n",
    "MAE is also less so I would choose multi varient multi linear regression with polynomial degree with 1."
   ]
  },
  {
   "cell_type": "code",
   "execution_count": null,
   "id": "0d394ce0",
   "metadata": {},
   "outputs": [],
   "source": []
  }
 ],
 "metadata": {
  "accelerator": "GPU",
  "colab": {
   "gpuType": "T4",
   "provenance": []
  },
  "kernelspec": {
   "display_name": "Python 3 (ipykernel)",
   "language": "python",
   "name": "python3"
  },
  "language_info": {
   "codemirror_mode": {
    "name": "ipython",
    "version": 3
   },
   "file_extension": ".py",
   "mimetype": "text/x-python",
   "name": "python",
   "nbconvert_exporter": "python",
   "pygments_lexer": "ipython3",
   "version": "3.9.16"
  }
 },
 "nbformat": 4,
 "nbformat_minor": 5
}
