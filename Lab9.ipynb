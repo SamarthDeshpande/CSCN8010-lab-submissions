{
 "cells": [
  {
   "cell_type": "markdown",
   "id": "0cb8d096",
   "metadata": {},
   "source": [
    "# Name : Samarth Deshpande\n",
    "# Student ID :8894058"
   ]
  },
  {
   "cell_type": "code",
   "execution_count": 12,
   "id": "e16165c4",
   "metadata": {},
   "outputs": [],
   "source": [
    "import tensorflow as tf\n",
    "from tensorflow.keras.datasets import fashion_mnist as fMNIST\n",
    "import numpy as np\n",
    "import matplotlib.pyplot as plt\n",
    "from tensorflow import keras\n",
    "from tensorflow.keras import layers"
   ]
  },
  {
   "cell_type": "code",
   "execution_count": 13,
   "id": "f8b297c9",
   "metadata": {},
   "outputs": [
    {
     "name": "stdout",
     "output_type": "stream",
     "text": [
      "Downloading data from https://storage.googleapis.com/tensorflow/tf-keras-datasets/train-labels-idx1-ubyte.gz\n",
      "29515/29515 [==============================] - 0s 1us/step\n",
      "Downloading data from https://storage.googleapis.com/tensorflow/tf-keras-datasets/train-images-idx3-ubyte.gz\n",
      "26421880/26421880 [==============================] - 5s 0us/step\n",
      "Downloading data from https://storage.googleapis.com/tensorflow/tf-keras-datasets/t10k-labels-idx1-ubyte.gz\n",
      "5148/5148 [==============================] - 0s 0s/step\n",
      "Downloading data from https://storage.googleapis.com/tensorflow/tf-keras-datasets/t10k-images-idx3-ubyte.gz\n",
      "4422102/4422102 [==============================] - 1s 0us/step\n",
      "Image Data Type: <class 'numpy.ndarray'>\n",
      "Image Element Data Type: <class 'numpy.uint8'>\n",
      "Label Element Data Type: <class 'numpy.uint8'>\n",
      "\n",
      "**Shapes:**\n"
     ]
    }
   ],
   "source": [
    "# Loading the MNIST dataset\n",
    "(train_images, train_labels), (test_images, test_labels) = fMNIST.load_data()"
   ]
  },
  {
   "cell_type": "markdown",
   "id": "ccb6b0dc",
   "metadata": {},
   "source": [
    "# Loading the MNIST Dataset and exploring the Train and Test Set along with Train and Test Labels"
   ]
  },
  {
   "cell_type": "code",
   "execution_count": 17,
   "id": "bcddff38",
   "metadata": {},
   "outputs": [
    {
     "name": "stdout",
     "output_type": "stream",
     "text": [
      "Image Data Type: <class 'numpy.ndarray'>\n",
      "Image Element Data Type: <class 'numpy.uint8'>\n",
      "Label Element Data Type: <class 'numpy.uint8'>\n"
     ]
    }
   ],
   "source": [
    "# Exploring the dataset's data types and shapes\n",
    "print(f'Image Data Type: {type(train_images)}')\n",
    "print(f'Image Element Data Type: {type(train_images[0, 0, 0])}')\n",
    "print(f'Label Element Data Type: {type(train_labels[0])}')"
   ]
  },
  {
   "cell_type": "code",
   "execution_count": 14,
   "id": "fe116844",
   "metadata": {},
   "outputs": [
    {
     "name": "stdout",
     "output_type": "stream",
     "text": [
      "Train Data:\n",
      "Images: (60000, 28, 28)\n",
      "Labels: (60000,) \n",
      "\n"
     ]
    }
   ],
   "source": [
    "#Displaying shapes of training data\n",
    "print('Train Data:')\n",
    "print(f'Images: {train_images.shape}')\n",
    "print(f'Labels: {train_labels.shape}',\"\\n\")"
   ]
  },
  {
   "cell_type": "code",
   "execution_count": 15,
   "id": "12dfc67d",
   "metadata": {},
   "outputs": [
    {
     "name": "stdout",
     "output_type": "stream",
     "text": [
      "Test Data:\n",
      "Images: (10000, 28, 28)\n",
      "Labels: (10000,)\n"
     ]
    }
   ],
   "source": [
    "# Display shapes of testing data\n",
    "print('Test Data:')\n",
    "print(f'Images: {test_images.shape}')\n",
    "print(f'Labels: {test_labels.shape}')"
   ]
  },
  {
   "cell_type": "code",
   "execution_count": 16,
   "id": "540955e8",
   "metadata": {},
   "outputs": [
    {
     "name": "stdout",
     "output_type": "stream",
     "text": [
      "\n",
      "Image Data Range:\n",
      "Min: 0\n",
      "Max: 255\n"
     ]
    }
   ],
   "source": [
    "# Display the range of image data values\n",
    "print('\\nImage Data Range:')\n",
    "print(f'Min: {train_images.min()}')\n",
    "print(f'Max: {train_images.max()}')"
   ]
  },
  {
   "cell_type": "markdown",
   "id": "f29ac0cd",
   "metadata": {},
   "source": [
    "# Checking the balance of labels in the train set"
   ]
  },
  {
   "cell_type": "code",
   "execution_count": 18,
   "id": "392f9836",
   "metadata": {},
   "outputs": [
    {
     "name": "stdout",
     "output_type": "stream",
     "text": [
      "Class 0: 6000 samples\n",
      "Class 1: 6000 samples\n",
      "Class 2: 6000 samples\n",
      "Class 3: 6000 samples\n",
      "Class 4: 6000 samples\n",
      "Class 5: 6000 samples\n",
      "Class 6: 6000 samples\n",
      "Class 7: 6000 samples\n",
      "Class 8: 6000 samples\n",
      "Class 9: 6000 samples\n"
     ]
    }
   ],
   "source": [
    "# Determining the number of unique classes in the training labels\n",
    "num_unique_classes = len(np.unique(train_labels))\n",
    "\n",
    "# Initializing a dictionary to track the distribution of samples for each class\n",
    "class_sample_distribution = {class_label: 0 for class_label in range(num_unique_classes)}\n",
    "\n",
    "# Counting the occurrences of each class in the training labels\n",
    "for label in train_labels:\n",
    "    class_sample_distribution[label] += 1\n",
    "\n",
    "# Displaying the distribution of samples for each class\n",
    "for class_label, count in class_sample_distribution.items():\n",
    "    print(f\"Class {class_label}: {count} samples\")"
   ]
  },
  {
   "cell_type": "markdown",
   "id": "6e6c6ed8",
   "metadata": {},
   "source": [
    "# Inferences"
   ]
  },
  {
   "cell_type": "markdown",
   "id": "d2149874",
   "metadata": {},
   "source": [
    "A balanced training set means that the quantity of number of samples in each class is roughly equal and it is not heavily skewed. It help the model to prevent bias. When the train data is imbalanced the model may be biased towards a particular class since it has more number of data of that particular class."
   ]
  },
  {
   "cell_type": "code",
   "execution_count": 19,
   "id": "915fa52c",
   "metadata": {},
   "outputs": [
    {
     "data": {
      "image/png": "[encoded data removed]",
      "text/plain": [
       "<Figure size 640x480 with 10 Axes>"
      ]
     },
     "metadata": {},
     "output_type": "display_data"
    }
   ],
   "source": [
    "for i in range(10):\n",
    "    # each unique class is represented by i here so this will find the index of the first image in the train set belonging to a unique class)\n",
    "    unique_index = train_labels.tolist().index(i) \n",
    "    plt.subplot(2, 5, i + 1) \n",
    "    plt.imshow(train_images[unique_index], cmap='viridis')\n",
    "    plt.title(\"Label: {}\".format(i))\n",
    "    plt.axis('off')\n",
    "\n",
    "plt.tight_layout()\n",
    "plt.show()"
   ]
  },
  {
   "cell_type": "code",
   "execution_count": 20,
   "id": "7da81529",
   "metadata": {},
   "outputs": [],
   "source": [
    "from tensorflow.keras.models import Sequential\n",
    "from tensorflow.keras.layers import Dense, Flatten\n",
    "\n",
    "train_images = train_images.reshape((60000, 28 * 28))  # flattening the 28x28 image into dim=1\n",
    "test_images = test_images.reshape((10000, 28 * 28))\n",
    "\n",
    "# Preprocess the data and converting it between 0 and 1\n",
    "train_images = train_images.astype('float') / 255.0\n",
    "test_images = test_images.astype(\"float\") / 255.0"
   ]
  },
  {
   "cell_type": "code",
   "execution_count": 21,
   "id": "139b1884",
   "metadata": {},
   "outputs": [
    {
     "data": {
      "text/plain": [
       "array([[0., 0., 0., ..., 0., 0., 0.],\n",
       "       [0., 0., 0., ..., 0., 0., 0.],\n",
       "       [0., 0., 0., ..., 0., 0., 0.],\n",
       "       ...,\n",
       "       [0., 0., 0., ..., 0., 0., 0.],\n",
       "       [0., 0., 0., ..., 0., 0., 0.],\n",
       "       [0., 0., 0., ..., 0., 0., 0.]])"
      ]
     },
     "execution_count": 21,
     "metadata": {},
     "output_type": "execute_result"
    }
   ],
   "source": [
    "train_images"
   ]
  },
  {
   "cell_type": "code",
   "execution_count": 22,
   "id": "57f44db6",
   "metadata": {},
   "outputs": [
    {
     "data": {
      "text/plain": [
       "array([[0., 0., 0., ..., 0., 0., 0.],\n",
       "       [0., 0., 0., ..., 0., 0., 0.],\n",
       "       [0., 0., 0., ..., 0., 0., 0.],\n",
       "       ...,\n",
       "       [0., 0., 0., ..., 0., 0., 0.],\n",
       "       [0., 0., 0., ..., 0., 0., 0.],\n",
       "       [0., 0., 0., ..., 0., 0., 0.]])"
      ]
     },
     "execution_count": 22,
     "metadata": {},
     "output_type": "execute_result"
    }
   ],
   "source": [
    "test_images"
   ]
  },
  {
   "cell_type": "markdown",
   "id": "fe06a30e",
   "metadata": {},
   "source": [
    "# Building the Model"
   ]
  },
  {
   "cell_type": "code",
   "execution_count": 23,
   "id": "74d7ec59",
   "metadata": {},
   "outputs": [],
   "source": [
    "model = keras.Sequential([\n",
    "    layers.Dense(512, activation=\"relu\"),\n",
    "    layers.Dense(10, activation=\"softmax\")\n",
    "])"
   ]
  },
  {
   "cell_type": "code",
   "execution_count": 25,
   "id": "1799ff9a",
   "metadata": {},
   "outputs": [
    {
     "name": "stdout",
     "output_type": "stream",
     "text": [
      "Epoch 1/10\n",
      "1875/1875 [==============================] - 29s 15ms/step - loss: 0.2167 - accuracy: 0.9187\n",
      "Epoch 2/10\n",
      "1875/1875 [==============================] - 29s 15ms/step - loss: 0.2050 - accuracy: 0.9233\n",
      "Epoch 3/10\n",
      "1875/1875 [==============================] - 28s 15ms/step - loss: 0.2012 - accuracy: 0.9248\n",
      "Epoch 4/10\n",
      "1875/1875 [==============================] - 29s 16ms/step - loss: 0.1900 - accuracy: 0.9276\n",
      "Epoch 5/10\n",
      "1875/1875 [==============================] - 28s 15ms/step - loss: 0.1849 - accuracy: 0.9301\n",
      "Epoch 6/10\n",
      "1875/1875 [==============================] - 28s 15ms/step - loss: 0.1825 - accuracy: 0.9305\n",
      "Epoch 7/10\n",
      "1875/1875 [==============================] - 28s 15ms/step - loss: 0.1731 - accuracy: 0.9351\n",
      "Epoch 8/10\n",
      "1875/1875 [==============================] - 27s 14ms/step - loss: 0.1687 - accuracy: 0.9360\n",
      "Epoch 9/10\n",
      "1875/1875 [==============================] - 27s 14ms/step - loss: 0.1637 - accuracy: 0.9380\n",
      "Epoch 10/10\n",
      "1875/1875 [==============================] - 28s 15ms/step - loss: 0.1564 - accuracy: 0.9408\n"
     ]
    },
    {
     "data": {
      "text/plain": [
       "<keras.src.callbacks.History at 0x2899186e160>"
      ]
     },
     "execution_count": 25,
     "metadata": {},
     "output_type": "execute_result"
    }
   ],
   "source": [
    "custom_optimizer = keras.optimizers.Adam(learning_rate=0.001)  \n",
    "model.compile(optimizer=custom_optimizer, loss='sparse_categorical_crossentropy', metrics=['accuracy'])\n",
    "model.fit(train_images, train_labels, epochs=10, batch_size=32)"
   ]
  },
  {
   "cell_type": "code",
   "execution_count": 28,
   "id": "aa4f3a22",
   "metadata": {},
   "outputs": [
    {
     "name": "stdout",
     "output_type": "stream",
     "text": [
      "Epoch 1/5\n",
      "1875/1875 [==============================] - 18s 9ms/step - loss: 0.1230 - accuracy: 0.9538\n",
      "Epoch 2/5\n",
      "1875/1875 [==============================] - 17s 9ms/step - loss: 0.1146 - accuracy: 0.9578\n",
      "Epoch 3/5\n",
      "1875/1875 [==============================] - 16s 9ms/step - loss: 0.1114 - accuracy: 0.9592\n",
      "Epoch 4/5\n",
      "1875/1875 [==============================] - 16s 9ms/step - loss: 0.1095 - accuracy: 0.9601\n",
      "Epoch 5/5\n",
      "1875/1875 [==============================] - 17s 9ms/step - loss: 0.1081 - accuracy: 0.9601\n"
     ]
    },
    {
     "data": {
      "text/plain": [
       "<keras.src.callbacks.History at 0x2899283e6a0>"
      ]
     },
     "execution_count": 28,
     "metadata": {},
     "output_type": "execute_result"
    }
   ],
   "source": [
    "# Example with a different learning rate\n",
    "custom_optimizer2 = keras.optimizers.SGD(learning_rate=0.005)  \n",
    "model.compile(optimizer=custom_optimizer2, loss='sparse_categorical_crossentropy', metrics=['accuracy'])\n",
    "# Train the model\n",
    "model.fit(train_images, train_labels, epochs=5, batch_size=32)"
   ]
  },
  {
   "cell_type": "code",
   "execution_count": 29,
   "id": "8f949352",
   "metadata": {},
   "outputs": [
    {
     "name": "stdout",
     "output_type": "stream",
     "text": [
      "Epoch 1/5\n",
      "1875/1875 [==============================] - 18s 9ms/step - loss: 4.4200 - accuracy: 0.9611\n",
      "Epoch 2/5\n",
      "1875/1875 [==============================] - 17s 9ms/step - loss: 4.4200 - accuracy: 0.9611\n",
      "Epoch 3/5\n",
      "1875/1875 [==============================] - 17s 9ms/step - loss: 4.4200 - accuracy: 0.9611\n",
      "Epoch 4/5\n",
      "1875/1875 [==============================] - 17s 9ms/step - loss: 4.4200 - accuracy: 0.9611\n",
      "Epoch 5/5\n",
      "1875/1875 [==============================] - 17s 9ms/step - loss: 4.4200 - accuracy: 0.9611\n"
     ]
    },
    {
     "data": {
      "text/plain": [
       "<keras.src.callbacks.History at 0x28992c319a0>"
      ]
     },
     "execution_count": 29,
     "metadata": {},
     "output_type": "execute_result"
    }
   ],
   "source": [
    "custom_optimizer3 = keras.optimizers.SGD(learning_rate=0.005)  \n",
    "model.compile(optimizer=custom_optimizer2, loss='mean_absolute_error', metrics=['accuracy'])\n",
    "# Train the model\n",
    "model.fit(train_images, train_labels, epochs=5, batch_size=32)"
   ]
  },
  {
   "cell_type": "markdown",
   "id": "950e9607",
   "metadata": {},
   "source": [
    "A higher learning rate allows the model to learn faster, thats why after inceresing the learning rate accuracy increased, but it may risk overshooting the optimal weights and missing the minimum of the loss function. On the other hand, a lower learning rate makes the learning process more stable but may require more epochs to converge."
   ]
  },
  {
   "cell_type": "markdown",
   "id": "4c151b7b",
   "metadata": {},
   "source": [
    "The loss seems constant at 4.42, because we have used  mean_absolute_error as the loss function for classification tasks. It's more suitable for regression tasks."
   ]
  },
  {
   "cell_type": "markdown",
   "id": "2fb06a7a",
   "metadata": {},
   "source": [
    "# Inferences"
   ]
  },
  {
   "cell_type": "markdown",
   "id": "5fd8c6ba",
   "metadata": {},
   "source": [
    "Configuration 2 with the SGD optimizer and 'sparse_categorical_crossentropy' loss achieved a high accuracy of 96.01%, indicating good performance.\n",
    "Configuration 1 with the Adam optimizer also performed well with an accuracy of 94.08%.\n",
    "Configuration 3 with 'mean_absolute_error' loss didn't seem appropriate for this classification task, resulting in constant loss and accuracy."
   ]
  },
  {
   "cell_type": "code",
   "execution_count": 30,
   "id": "0e2d685b",
   "metadata": {},
   "outputs": [
    {
     "name": "stdout",
     "output_type": "stream",
     "text": [
      "Model: \"sequential\"\n",
      "_________________________________________________________________\n",
      " Layer (type)                Output Shape              Param #   \n",
      "=================================================================\n",
      " dense (Dense)               (32, 512)                 401920    \n",
      "                                                                 \n",
      " dense_1 (Dense)             (32, 10)                  5130      \n",
      "                                                                 \n",
      "=================================================================\n",
      "Total params: 407050 (1.55 MB)\n",
      "Trainable params: 407050 (1.55 MB)\n",
      "Non-trainable params: 0 (0.00 Byte)\n",
      "_________________________________________________________________\n"
     ]
    }
   ],
   "source": [
    "model.summary()"
   ]
  },
  {
   "cell_type": "markdown",
   "id": "678549a8",
   "metadata": {},
   "source": [
    "# The test label for 9 is label \"7"
   ]
  },
  {
   "cell_type": "code",
   "execution_count": 41,
   "id": "a34faaeb",
   "metadata": {},
   "outputs": [
    {
     "data": {
      "text/plain": [
       "7"
      ]
     },
     "execution_count": 41,
     "metadata": {},
     "output_type": "execute_result"
    }
   ],
   "source": [
    "test_labels[9]"
   ]
  },
  {
   "cell_type": "code",
   "execution_count": 40,
   "id": "36802172",
   "metadata": {},
   "outputs": [
    {
     "data": {
      "text/plain": [
       "<matplotlib.image.AxesImage at 0x289930f8f40>"
      ]
     },
     "execution_count": 40,
     "metadata": {},
     "output_type": "execute_result"
    },
    {
     "data": {
      "image/png": "[encoded data removed]",
      "text/plain": [
       "<Figure size 640x480 with 1 Axes>"
      ]
     },
     "metadata": {},
     "output_type": "display_data"
    }
   ],
   "source": [
    "plt.imshow(test_images[9:10].reshape(28,28), cmap='viridis')  # the actual image"
   ]
  },
  {
   "cell_type": "markdown",
   "id": "09bac3f0",
   "metadata": {},
   "source": [
    "# Predicting the test label [9] i.e Label \"7\""
   ]
  },
  {
   "cell_type": "code",
   "execution_count": 42,
   "id": "5f7a13f6",
   "metadata": {},
   "outputs": [
    {
     "name": "stdout",
     "output_type": "stream",
     "text": [
      "1/1 [==============================] - 0s 332ms/step\n"
     ]
    },
    {
     "data": {
      "text/plain": [
       "array([[5.8344139e-17, 9.4467718e-17, 5.3697415e-20, 2.3740168e-20,\n",
       "        2.6751024e-19, 1.8350856e-09, 4.3573542e-18, 1.0000000e+00,\n",
       "        9.1759348e-13, 1.7274079e-10]], dtype=float32)"
      ]
     },
     "execution_count": 42,
     "metadata": {},
     "output_type": "execute_result"
    }
   ],
   "source": [
    "pred = model.predict(test_images[9:10])\n",
    "pred"
   ]
  },
  {
   "cell_type": "markdown",
   "id": "048d5f93",
   "metadata": {},
   "source": [
    "# Accuarcy for predicting \"Label 7\"."
   ]
  },
  {
   "cell_type": "code",
   "execution_count": 44,
   "id": "acc682e8",
   "metadata": {},
   "outputs": [
    {
     "data": {
      "text/plain": [
       "1.0"
      ]
     },
     "execution_count": 44,
     "metadata": {},
     "output_type": "execute_result"
    }
   ],
   "source": [
    "pred[0,7]"
   ]
  },
  {
   "cell_type": "markdown",
   "id": "a3241272",
   "metadata": {},
   "source": [
    "# Evaluating the Model using test data"
   ]
  },
  {
   "cell_type": "code",
   "execution_count": 45,
   "id": "8dbd5c69",
   "metadata": {},
   "outputs": [
    {
     "name": "stdout",
     "output_type": "stream",
     "text": [
      "313/313 [==============================] - 3s 7ms/step - loss: 4.4200 - accuracy: 0.9007\n",
      "Test accuracy: 0.9006999731063843\n",
      "313/313 [==============================] - 2s 6ms/step\n"
     ]
    }
   ],
   "source": [
    "from sklearn.metrics import confusion_matrix, ConfusionMatrixDisplay\n",
    "\n",
    "# Evaluate the model\n",
    "test_loss, test_accuracy = model.evaluate(test_images, test_labels)\n",
    "print(\"Test accuracy:\", test_accuracy)\n",
    "\n",
    "# Get model predictions oj test data\n",
    "model_predictions = model.predict(test_images)\n",
    "pred_labels = np.argmax(model_predictions, axis=1)"
   ]
  },
  {
   "cell_type": "markdown",
   "id": "35d75510",
   "metadata": {},
   "source": [
    "Test Accuray is 90 percent "
   ]
  },
  {
   "cell_type": "markdown",
   "id": "ba89810d",
   "metadata": {},
   "source": [
    "# Confusion Matrix"
   ]
  },
  {
   "cell_type": "code",
   "execution_count": 46,
   "id": "fecfc34e",
   "metadata": {},
   "outputs": [
    {
     "data": {
      "text/plain": [
       "array([[869,   1,  14,  17,   4,   0,  88,   0,   7,   0],\n",
       "       [  3, 977,   0,  12,   4,   0,   4,   0,   0,   0],\n",
       "       [ 17,   0, 833,  11,  76,   1,  62,   0,   0,   0],\n",
       "       [ 24,   8,  14, 905,  23,   0,  22,   0,   4,   0],\n",
       "       [  1,   0,  76,  32, 839,   0,  51,   0,   1,   0],\n",
       "       [  0,   0,   0,   0,   0, 969,   0,  18,   0,  13],\n",
       "       [122,   0,  74,  24,  65,   0, 709,   0,   6,   0],\n",
       "       [  0,   0,   0,   0,   0,   6,   0, 967,   1,  26],\n",
       "       [  8,   0,   3,   4,   2,   2,   2,   1, 978,   0],\n",
       "       [  0,   0,   0,   0,   0,   7,   1,  31,   0, 961]], dtype=int64)"
      ]
     },
     "execution_count": 46,
     "metadata": {},
     "output_type": "execute_result"
    }
   ],
   "source": [
    "# Create the confusion matrix\n",
    "confusion_matrix = confusion_matrix(test_labels, pred_labels)\n",
    "confusion_matrix"
   ]
  }
 ],
 "metadata": {
  "kernelspec": {
   "display_name": "Python 3 (ipykernel)",
   "language": "python",
   "name": "python3"
  },
  "language_info": {
   "codemirror_mode": {
    "name": "ipython",
    "version": 3
   },
   "file_extension": ".py",
   "mimetype": "text/x-python",
   "name": "python",
   "nbconvert_exporter": "python",
   "pygments_lexer": "ipython3",
   "version": "3.9.16"
  }
 },
 "nbformat": 4,
 "nbformat_minor": 5
}
